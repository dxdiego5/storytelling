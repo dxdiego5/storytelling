{
  "nbformat": 4,
  "nbformat_minor": 0,
  "metadata": {
    "colab": {
      "provenance": [],
      "collapsed_sections": [],
      "mount_file_id": "1yLvb6TJU2fpa_a4BVkFYK8qDKx1_jvBh",
      "authorship_tag": "ABX9TyOqmC2vxjvkBZ+yNNYTj8Vu",
      "include_colab_link": true
    },
    "kernelspec": {
      "name": "python3",
      "display_name": "Python 3"
    },
    "language_info": {
      "name": "python"
    }
  },
  "cells": [
    {
      "cell_type": "markdown",
      "metadata": {
        "id": "view-in-github",
        "colab_type": "text"
      },
      "source": [
        "<a href=\"https://colab.research.google.com/github/dxdiego5/storytelling/blob/main/prova_final_storytelling.ipynb\" target=\"_parent\"><img src=\"https://colab.research.google.com/assets/colab-badge.svg\" alt=\"Open In Colab\"/></a>"
      ]
    },
    {
      "cell_type": "code",
      "execution_count": null,
      "metadata": {
        "id": "q6M3FYAoktZg"
      },
      "outputs": [],
      "source": [
        "import pandas as pd\n",
        "import plotly.express as px\n",
        "import plotly.graph_objects as go\n",
        "from plotly.subplots import make_subplots\n",
        "\n",
        "! pip install -U kaleido"
      ]
    },
    {
      "cell_type": "code",
      "source": [
        "# Leitura de dados da base\n",
        "df_censo_2021 = pd.read_csv('/content/drive/MyDrive/Colab Notebooks/storytelling/microdados_ed_basica_2021.csv', encoding = \"iso-8859-1\", sep=';')\n",
        "df_censo_2021.info()"
      ],
      "metadata": {
        "id": "FGo_ZbLCmY8f"
      },
      "execution_count": null,
      "outputs": []
    },
    {
      "cell_type": "code",
      "source": [
        "# Filtrando pelo estado pela colna SG_UF (sigla do estado) no caso da pesquisa o RS de Rio Grande do Sul\n",
        "df_censo_2021_RS = df_censo_2021[df_censo_2021['SG_UF'] == 'RS']"
      ],
      "metadata": {
        "id": "OWC_u1PamZMD"
      },
      "execution_count": 3,
      "outputs": []
    },
    {
      "cell_type": "code",
      "source": [
        "# Mapeamentos de tipo localizacao diferenciada da localizacao das escolas\n",
        "tp_localizacao_dif = {1:'Área de assentamento',2:'Terra indígena',3:'Área remanescente de quilombos'}\n",
        "df_censo_2021_RS['TP_LOCALIZACAO_DIFERENCIADA'] = df_censo_2021_RS['TP_LOCALIZACAO_DIFERENCIADA'].map(tp_localizacao_dif)\n",
        "\n",
        "df_censo_2021_RS.dropna(subset=['TP_LOCALIZACAO_DIFERENCIADA'], inplace=True)"
      ],
      "metadata": {
        "id": "m_LhygiROQ5T"
      },
      "execution_count": null,
      "outputs": []
    },
    {
      "cell_type": "code",
      "source": [
        "# Mapeamentos de tipo localizacao da localizacao das escolas sendo Rural ou Urbana\n",
        "tp_localizacao = {1:'Urbana',2:'Rural'}\n",
        "df_censo_2021_RS['TP_LOCALIZACAO'] = df_censo_2021_RS['TP_LOCALIZACAO'].map(tp_localizacao)\n",
        "\n",
        "df_censo_2021_RS.dropna(subset=['TP_LOCALIZACAO'], inplace=True)"
      ],
      "metadata": {
        "id": "XkluIYwYR224"
      },
      "execution_count": null,
      "outputs": []
    },
    {
      "cell_type": "code",
      "source": [
        "# Trocando todos os valores que são Nan pelo numero ZERO \n",
        "df_censo_2021_RS.fillna(0, inplace=True)"
      ],
      "metadata": {
        "id": "lAO69c83VRsY"
      },
      "execution_count": null,
      "outputs": []
    },
    {
      "cell_type": "markdown",
      "source": [
        "### Start apllication \n"
      ],
      "metadata": {
        "id": "qVtpOGyfcGKJ"
      }
    },
    {
      "cell_type": "code",
      "source": [
        "cores = {'Área de assentamento': 'brown','Terra indígena': 'orange', 'Área remanescente de quilombos': 'turquoise'}\n",
        "ordem = {'TP_LOCALIZACAO_DIFERENCIADA' : list(df_censo_2021_RS.TP_LOCALIZACAO_DIFERENCIADA.unique())}\n",
        "\n",
        "# Responde a questao: 1, 2, 8, 9, 10,15, 14\n",
        "fig = px.scatter(\n",
        "    df_censo_2021_RS, \n",
        "    x = \"QT_MAT_BAS\", \n",
        "    y = \"QT_DOC_BAS\", \n",
        "    facet_col = \"TP_LOCALIZACAO\",  \n",
        "    size = \"QT_TUR_BAS\",\n",
        "    size_max = 30,\n",
        "    opacity=0.75,\n",
        "    color = \"TP_LOCALIZACAO_DIFERENCIADA\", \n",
        "    color_discrete_map = cores,\n",
        "    category_orders = ordem,\n",
        ")\n",
        "\n",
        "fig.update_traces(marker_line_width = 1, marker_line_color = \"black\")\n",
        "\n",
        "# Responde a questao: 3\n",
        "fig.update_layout(template='ggplot2')\n",
        "\n",
        "# Responde a questao: 4\n",
        "title_font=dict(size =14, color='Black', family='Arial Bold, sans-serif')\n",
        "fig.update_layout(title='<b>Censo Escolar 2021: Análise de Localização Diferenciada (RS)</b>', titlefont=title_font)\n",
        "\n",
        "# Responde a questao: 5\n",
        "fig.update_layout(width=1200, height=600)\n",
        "\n",
        "# Responde a questao: 6, 7\n",
        "fig.update_layout(\n",
        "    legend=dict(\n",
        "        title = '<b> Localização Diferenciada:</b>',\n",
        "        orientation = 'h',\n",
        "        font_size = 12,\n",
        "        x = 0,\n",
        "        y = -0.2\n",
        "    )\n",
        ")\n",
        "\n",
        "# Responde a questao: 16\n",
        "fig.add_annotation(\n",
        "    text=\"Fonte: INEP\",\n",
        "    xref=\"paper\",\n",
        "    yref=\"paper\",\n",
        "    font_color = \"darkgrey\",\n",
        "    font_size = 12,\n",
        "    xanchor = 'right',\n",
        "    yanchor = 'top',\n",
        "    x=1,\n",
        "    y=1.1,\n",
        "    showarrow=False)\n",
        "\n",
        "# Responde a questao: 11\n",
        "fig.layout.annotations[0].text= ' Localização Rural'\n",
        "fig.layout.annotations[1].text= ' Localização Urbana'\n",
        "\n",
        "# Responde a questao: 12, 13\n",
        "fig.update_layout(\n",
        "    xaxis_title=\"Quantidade Matrículas\",\n",
        "    xaxis2_title=\"Quantidade Matrículas\",\n",
        "    yaxis_title=\"Quantidade Docentes\",\n",
        "    font_size=11\n",
        ")\n",
        "\n",
        "fig.update_yaxes(range = [-14,200])\n",
        "fig.update_xaxes(range = [-14,500])\n",
        "\n",
        "# FIG SHOW \n",
        "fig.show()\n",
        "\n",
        "# Responde a questao: 17\n",
        "fig.write_html(\"localizacao_diferenciada_rs.html\")"
      ],
      "metadata": {
        "colab": {
          "base_uri": "https://localhost:8080/",
          "height": 617
        },
        "id": "jZe85pIHTvkQ",
        "outputId": "35de4049-3d67-4992-d852-55ae16c9b4f3"
      },
      "execution_count": 8,
      "outputs": [
        {
          "output_type": "display_data",
          "data": {
            "text/html": [
              "<html>\n",
              "<head><meta charset=\"utf-8\" /></head>\n",
              "<body>\n",
              "    <div>            <script src=\"https://cdnjs.cloudflare.com/ajax/libs/mathjax/2.7.5/MathJax.js?config=TeX-AMS-MML_SVG\"></script><script type=\"text/javascript\">if (window.MathJax) {MathJax.Hub.Config({SVG: {font: \"STIX-Web\"}});}</script>                <script type=\"text/javascript\">window.PlotlyConfig = {MathJaxConfig: 'local'};</script>\n",
              "        <script src=\"https://cdn.plot.ly/plotly-2.8.3.min.js\"></script>                <div id=\"aa6a5156-ca7b-4689-a44d-4c1a1dfc4527\" class=\"plotly-graph-div\" style=\"height:600px; width:1200px;\"></div>            <script type=\"text/javascript\">                                    window.PLOTLYENV=window.PLOTLYENV || {};                                    if (document.getElementById(\"aa6a5156-ca7b-4689-a44d-4c1a1dfc4527\")) {                    Plotly.newPlot(                        \"aa6a5156-ca7b-4689-a44d-4c1a1dfc4527\",                        [{\"hovertemplate\":\"TP_LOCALIZACAO_DIFERENCIADA=\\u00c1rea de assentamento<br>TP_LOCALIZACAO=Rural<br>QT_MAT_BAS=%{x}<br>QT_DOC_BAS=%{y}<br>QT_TUR_BAS=%{marker.size}<extra></extra>\",\"legendgroup\":\"\\u00c1rea de assentamento\",\"marker\":{\"color\":\"brown\",\"opacity\":0.75,\"size\":[4.0,7.0,4.0,2.0,10.0,11.0,6.0,3.0,7.0,6.0,5.0,5.0,4.0,4.0,6.0,4.0,1.0,11.0,4.0,11.0,5.0,6.0,9.0,8.0,4.0,13.0,10.0,5.0,8.0,4.0,13.0,4.0,9.0,3.0,7.0,4.0,16.0,2.0,11.0,11.0,10.0,2.0,3.0,10.0,1.0,1.0,4.0,2.0,8.0,6.0,12.0,3.0,8.0,2.0,9.0,11.0,3.0,12.0,4.0,3.0,11.0,10.0,11.0,3.0,11.0],\"sizemode\":\"area\",\"sizeref\":0.028888888888888888,\"symbol\":\"circle\",\"line\":{\"color\":\"black\",\"width\":1}},\"mode\":\"markers\",\"name\":\"\\u00c1rea de assentamento\",\"orientation\":\"v\",\"showlegend\":true,\"x\":[32.0,64.0,31.0,12.0,150.0,270.0,73.0,35.0,62.0,62.0,32.0,6.0,29.0,23.0,45.0,42.0,12.0,242.0,38.0,132.0,51.0,39.0,98.0,58.0,48.0,105.0,158.0,64.0,67.0,38.0,201.0,22.0,83.0,29.0,78.0,87.0,350.0,25.0,31.0,81.0,36.0,12.0,21.0,128.0,14.0,7.0,30.0,10.0,69.0,88.0,179.0,21.0,105.0,14.0,76.0,85.0,35.0,153.0,52.0,33.0,74.0,53.0,65.0,21.0,277.0],\"xaxis\":\"x\",\"y\":[6.0,47.0,14.0,9.0,7.0,17.0,6.0,5.0,6.0,10.0,13.0,27.0,9.0,8.0,13.0,39.0,45.0,16.0,24.0,5.0,12.0,13.0,34.0,12.0,54.0,5.0,11.0,5.0,11.0,12.0,6.0,3.0,57.0,3.0,7.0,30.0,14.0,75.0,9.0,3.0,2.0,1.0,4.0,35.0,15.0,47.0,15.0,3.0,5.0,16.0,12.0,8.0,27.0,18.0,4.0,31.0,5.0,6.0,51.0,11.0,38.0,34.0,6.0,5.0,10.0],\"yaxis\":\"y\",\"type\":\"scatter\"},{\"hovertemplate\":\"TP_LOCALIZACAO_DIFERENCIADA=Terra ind\\u00edgena<br>TP_LOCALIZACAO=Rural<br>QT_MAT_BAS=%{x}<br>QT_DOC_BAS=%{y}<br>QT_TUR_BAS=%{marker.size}<extra></extra>\",\"legendgroup\":\"Terra ind\\u00edgena\",\"marker\":{\"color\":\"orange\",\"opacity\":0.75,\"size\":[7.0,5.0,4.0,4.0,2.0,3.0,7.0,15.0,1.0,1.0,2.0,9.0,2.0,3.0,1.0,3.0,20.0,2.0,5.0,1.0,3.0,1.0,8.0,6.0,4.0,1.0,2.0,4.0,5.0,9.0,2.0,7.0,15.0,5.0,4.0,2.0,10.0,1.0,1.0,3.0,3.0,6.0,12.0,1.0,3.0,11.0,2.0,3.0,7.0,2.0,21.0,13.0,10.0,10.0,9.0,3.0,4.0,2.0,7.0,5.0,2.0,13.0,3.0,7.0,6.0,5.0,7.0,6.0,11.0,18.0,1.0,11.0,11.0,15.0,10.0,7.0,4.0,9.0,7.0],\"sizemode\":\"area\",\"sizeref\":0.028888888888888888,\"symbol\":\"circle\",\"line\":{\"color\":\"black\",\"width\":1}},\"mode\":\"markers\",\"name\":\"Terra ind\\u00edgena\",\"orientation\":\"v\",\"showlegend\":true,\"x\":[112.0,45.0,16.0,34.0,33.0,29.0,85.0,240.0,2.0,8.0,12.0,141.0,25.0,46.0,3.0,34.0,337.0,21.0,76.0,2.0,49.0,15.0,56.0,49.0,49.0,6.0,11.0,57.0,35.0,149.0,18.0,115.0,254.0,36.0,74.0,30.0,112.0,3.0,8.0,34.0,20.0,79.0,174.0,8.0,15.0,184.0,9.0,6.0,82.0,22.0,407.0,237.0,129.0,141.0,130.0,31.0,56.0,19.0,85.0,40.0,10.0,180.0,30.0,50.0,61.0,22.0,57.0,65.0,149.0,334.0,7.0,137.0,167.0,198.0,111.0,48.0,35.0,54.0,86.0],\"xaxis\":\"x\",\"y\":[4.0,16.0,2.0,10.0,18.0,1.0,20.0,17.0,14.0,20.0,16.0,13.0,2.0,12.0,6.0,26.0,20.0,33.0,14.0,16.0,8.0,2.0,3.0,5.0,2.0,3.0,3.0,8.0,4.0,2.0,1.0,9.0,3.0,26.0,19.0,16.0,9.0,18.0,6.0,47.0,9.0,22.0,41.0,15.0,7.0,20.0,3.0,21.0,4.0,2.0,18.0,2.0,18.0,16.0,37.0,14.0,3.0,6.0,14.0,21.0,5.0,13.0,6.0,2.0,30.0,2.0,8.0,10.0,8.0,13.0,5.0,5.0,11.0,5.0,4.0,5.0,3.0,5.0,11.0],\"yaxis\":\"y\",\"type\":\"scatter\"},{\"hovertemplate\":\"TP_LOCALIZACAO_DIFERENCIADA=Terra ind\\u00edgena<br>TP_LOCALIZACAO=Urbana<br>QT_MAT_BAS=%{x}<br>QT_DOC_BAS=%{y}<br>QT_TUR_BAS=%{marker.size}<extra></extra>\",\"legendgroup\":\"Terra ind\\u00edgena\",\"marker\":{\"color\":\"orange\",\"opacity\":0.75,\"size\":[1.0,3.0,2.0,3.0,2.0,13.0,4.0,2.0],\"sizemode\":\"area\",\"sizeref\":0.028888888888888888,\"symbol\":\"circle\",\"line\":{\"color\":\"black\",\"width\":1}},\"mode\":\"markers\",\"name\":\"Terra ind\\u00edgena\",\"orientation\":\"v\",\"showlegend\":false,\"x\":[11.0,17.0,20.0,9.0,4.0,58.0,38.0,13.0],\"xaxis\":\"x2\",\"y\":[2.0,23.0,11.0,15.0,20.0,33.0,11.0,3.0],\"yaxis\":\"y2\",\"type\":\"scatter\"},{\"hovertemplate\":\"TP_LOCALIZACAO_DIFERENCIADA=\\u00c1rea remanescente de quilombos<br>TP_LOCALIZACAO=Rural<br>QT_MAT_BAS=%{x}<br>QT_DOC_BAS=%{y}<br>QT_TUR_BAS=%{marker.size}<extra></extra>\",\"legendgroup\":\"\\u00c1rea remanescente de quilombos\",\"marker\":{\"color\":\"turquoise\",\"opacity\":0.75,\"size\":[11.0,8.0,13.0,10.0,12.0,10.0,11.0,10.0,9.0,10.0,10.0,11.0,10.0,12.0,9.0,9.0,11.0,9.0,15.0,10.0,10.0,10.0,7.0,7.0,5.0,8.0,6.0,3.0,15.0,3.0,10.0,3.0,8.0,6.0,2.0,4.0,10.0,11.0,15.0,4.0,26.0,10.0,2.0,6.0,12.0,7.0,7.0,5.0,7.0,13.0,15.0,13.0,11.0,8.0],\"sizemode\":\"area\",\"sizeref\":0.028888888888888888,\"symbol\":\"circle\",\"line\":{\"color\":\"black\",\"width\":1}},\"mode\":\"markers\",\"name\":\"\\u00c1rea remanescente de quilombos\",\"orientation\":\"v\",\"showlegend\":true,\"x\":[126.0,65.0,235.0,131.0,116.0,116.0,187.0,94.0,70.0,57.0,131.0,142.0,114.0,206.0,101.0,69.0,120.0,104.0,169.0,138.0,120.0,106.0,58.0,65.0,44.0,86.0,90.0,21.0,206.0,53.0,123.0,25.0,128.0,55.0,23.0,25.0,190.0,157.0,219.0,32.0,333.0,111.0,16.0,126.0,186.0,171.0,100.0,19.0,92.0,248.0,254.0,218.0,87.0,90.0],\"xaxis\":\"x\",\"y\":[11.0,13.0,18.0,25.0,18.0,34.0,16.0,17.0,17.0,6.0,14.0,8.0,17.0,17.0,15.0,48.0,15.0,17.0,17.0,15.0,37.0,6.0,33.0,20.0,23.0,1.0,14.0,2.0,21.0,15.0,24.0,19.0,24.0,19.0,25.0,11.0,18.0,30.0,57.0,36.0,58.0,30.0,16.0,2.0,5.0,25.0,9.0,16.0,4.0,34.0,25.0,28.0,4.0,38.0],\"yaxis\":\"y\",\"type\":\"scatter\"},{\"hovertemplate\":\"TP_LOCALIZACAO_DIFERENCIADA=\\u00c1rea remanescente de quilombos<br>TP_LOCALIZACAO=Urbana<br>QT_MAT_BAS=%{x}<br>QT_DOC_BAS=%{y}<br>QT_TUR_BAS=%{marker.size}<extra></extra>\",\"legendgroup\":\"\\u00c1rea remanescente de quilombos\",\"marker\":{\"color\":\"turquoise\",\"opacity\":0.75,\"size\":[19.0,9.0,4.0,4.0,15.0,2.0,10.0,0.0],\"sizemode\":\"area\",\"sizeref\":0.028888888888888888,\"symbol\":\"circle\",\"line\":{\"color\":\"black\",\"width\":1}},\"mode\":\"markers\",\"name\":\"\\u00c1rea remanescente de quilombos\",\"orientation\":\"v\",\"showlegend\":false,\"x\":[285.0,173.0,36.0,36.0,299.0,31.0,226.0,0.0],\"xaxis\":\"x2\",\"y\":[12.0,5.0,22.0,5.0,7.0,10.0,157.0,0.0],\"yaxis\":\"y2\",\"type\":\"scatter\"}],                        {\"template\":{\"data\":{\"barpolar\":[{\"marker\":{\"line\":{\"color\":\"rgb(237,237,237)\",\"width\":0.5},\"pattern\":{\"fillmode\":\"overlay\",\"size\":10,\"solidity\":0.2}},\"type\":\"barpolar\"}],\"bar\":[{\"error_x\":{\"color\":\"rgb(51,51,51)\"},\"error_y\":{\"color\":\"rgb(51,51,51)\"},\"marker\":{\"line\":{\"color\":\"rgb(237,237,237)\",\"width\":0.5},\"pattern\":{\"fillmode\":\"overlay\",\"size\":10,\"solidity\":0.2}},\"type\":\"bar\"}],\"carpet\":[{\"aaxis\":{\"endlinecolor\":\"rgb(51,51,51)\",\"gridcolor\":\"white\",\"linecolor\":\"white\",\"minorgridcolor\":\"white\",\"startlinecolor\":\"rgb(51,51,51)\"},\"baxis\":{\"endlinecolor\":\"rgb(51,51,51)\",\"gridcolor\":\"white\",\"linecolor\":\"white\",\"minorgridcolor\":\"white\",\"startlinecolor\":\"rgb(51,51,51)\"},\"type\":\"carpet\"}],\"choropleth\":[{\"colorbar\":{\"outlinewidth\":0,\"tickcolor\":\"rgb(237,237,237)\",\"ticklen\":6,\"ticks\":\"inside\"},\"type\":\"choropleth\"}],\"contourcarpet\":[{\"colorbar\":{\"outlinewidth\":0,\"tickcolor\":\"rgb(237,237,237)\",\"ticklen\":6,\"ticks\":\"inside\"},\"type\":\"contourcarpet\"}],\"contour\":[{\"colorbar\":{\"outlinewidth\":0,\"tickcolor\":\"rgb(237,237,237)\",\"ticklen\":6,\"ticks\":\"inside\"},\"colorscale\":[[0,\"rgb(20,44,66)\"],[1,\"rgb(90,179,244)\"]],\"type\":\"contour\"}],\"heatmapgl\":[{\"colorbar\":{\"outlinewidth\":0,\"tickcolor\":\"rgb(237,237,237)\",\"ticklen\":6,\"ticks\":\"inside\"},\"colorscale\":[[0,\"rgb(20,44,66)\"],[1,\"rgb(90,179,244)\"]],\"type\":\"heatmapgl\"}],\"heatmap\":[{\"colorbar\":{\"outlinewidth\":0,\"tickcolor\":\"rgb(237,237,237)\",\"ticklen\":6,\"ticks\":\"inside\"},\"colorscale\":[[0,\"rgb(20,44,66)\"],[1,\"rgb(90,179,244)\"]],\"type\":\"heatmap\"}],\"histogram2dcontour\":[{\"colorbar\":{\"outlinewidth\":0,\"tickcolor\":\"rgb(237,237,237)\",\"ticklen\":6,\"ticks\":\"inside\"},\"colorscale\":[[0,\"rgb(20,44,66)\"],[1,\"rgb(90,179,244)\"]],\"type\":\"histogram2dcontour\"}],\"histogram2d\":[{\"colorbar\":{\"outlinewidth\":0,\"tickcolor\":\"rgb(237,237,237)\",\"ticklen\":6,\"ticks\":\"inside\"},\"colorscale\":[[0,\"rgb(20,44,66)\"],[1,\"rgb(90,179,244)\"]],\"type\":\"histogram2d\"}],\"histogram\":[{\"marker\":{\"pattern\":{\"fillmode\":\"overlay\",\"size\":10,\"solidity\":0.2}},\"type\":\"histogram\"}],\"mesh3d\":[{\"colorbar\":{\"outlinewidth\":0,\"tickcolor\":\"rgb(237,237,237)\",\"ticklen\":6,\"ticks\":\"inside\"},\"type\":\"mesh3d\"}],\"parcoords\":[{\"line\":{\"colorbar\":{\"outlinewidth\":0,\"tickcolor\":\"rgb(237,237,237)\",\"ticklen\":6,\"ticks\":\"inside\"}},\"type\":\"parcoords\"}],\"pie\":[{\"automargin\":true,\"type\":\"pie\"}],\"scatter3d\":[{\"line\":{\"colorbar\":{\"outlinewidth\":0,\"tickcolor\":\"rgb(237,237,237)\",\"ticklen\":6,\"ticks\":\"inside\"}},\"marker\":{\"colorbar\":{\"outlinewidth\":0,\"tickcolor\":\"rgb(237,237,237)\",\"ticklen\":6,\"ticks\":\"inside\"}},\"type\":\"scatter3d\"}],\"scattercarpet\":[{\"marker\":{\"colorbar\":{\"outlinewidth\":0,\"tickcolor\":\"rgb(237,237,237)\",\"ticklen\":6,\"ticks\":\"inside\"}},\"type\":\"scattercarpet\"}],\"scattergeo\":[{\"marker\":{\"colorbar\":{\"outlinewidth\":0,\"tickcolor\":\"rgb(237,237,237)\",\"ticklen\":6,\"ticks\":\"inside\"}},\"type\":\"scattergeo\"}],\"scattergl\":[{\"marker\":{\"colorbar\":{\"outlinewidth\":0,\"tickcolor\":\"rgb(237,237,237)\",\"ticklen\":6,\"ticks\":\"inside\"}},\"type\":\"scattergl\"}],\"scattermapbox\":[{\"marker\":{\"colorbar\":{\"outlinewidth\":0,\"tickcolor\":\"rgb(237,237,237)\",\"ticklen\":6,\"ticks\":\"inside\"}},\"type\":\"scattermapbox\"}],\"scatterpolargl\":[{\"marker\":{\"colorbar\":{\"outlinewidth\":0,\"tickcolor\":\"rgb(237,237,237)\",\"ticklen\":6,\"ticks\":\"inside\"}},\"type\":\"scatterpolargl\"}],\"scatterpolar\":[{\"marker\":{\"colorbar\":{\"outlinewidth\":0,\"tickcolor\":\"rgb(237,237,237)\",\"ticklen\":6,\"ticks\":\"inside\"}},\"type\":\"scatterpolar\"}],\"scatter\":[{\"marker\":{\"colorbar\":{\"outlinewidth\":0,\"tickcolor\":\"rgb(237,237,237)\",\"ticklen\":6,\"ticks\":\"inside\"}},\"type\":\"scatter\"}],\"scatterternary\":[{\"marker\":{\"colorbar\":{\"outlinewidth\":0,\"tickcolor\":\"rgb(237,237,237)\",\"ticklen\":6,\"ticks\":\"inside\"}},\"type\":\"scatterternary\"}],\"surface\":[{\"colorbar\":{\"outlinewidth\":0,\"tickcolor\":\"rgb(237,237,237)\",\"ticklen\":6,\"ticks\":\"inside\"},\"colorscale\":[[0,\"rgb(20,44,66)\"],[1,\"rgb(90,179,244)\"]],\"type\":\"surface\"}],\"table\":[{\"cells\":{\"fill\":{\"color\":\"rgb(237,237,237)\"},\"line\":{\"color\":\"white\"}},\"header\":{\"fill\":{\"color\":\"rgb(217,217,217)\"},\"line\":{\"color\":\"white\"}},\"type\":\"table\"}]},\"layout\":{\"annotationdefaults\":{\"arrowhead\":0,\"arrowwidth\":1},\"autotypenumbers\":\"strict\",\"coloraxis\":{\"colorbar\":{\"outlinewidth\":0,\"tickcolor\":\"rgb(237,237,237)\",\"ticklen\":6,\"ticks\":\"inside\"}},\"colorscale\":{\"sequential\":[[0,\"rgb(20,44,66)\"],[1,\"rgb(90,179,244)\"]],\"sequentialminus\":[[0,\"rgb(20,44,66)\"],[1,\"rgb(90,179,244)\"]]},\"colorway\":[\"#F8766D\",\"#A3A500\",\"#00BF7D\",\"#00B0F6\",\"#E76BF3\"],\"font\":{\"color\":\"rgb(51,51,51)\"},\"geo\":{\"bgcolor\":\"white\",\"lakecolor\":\"white\",\"landcolor\":\"rgb(237,237,237)\",\"showlakes\":true,\"showland\":true,\"subunitcolor\":\"white\"},\"hoverlabel\":{\"align\":\"left\"},\"hovermode\":\"closest\",\"paper_bgcolor\":\"white\",\"plot_bgcolor\":\"rgb(237,237,237)\",\"polar\":{\"angularaxis\":{\"gridcolor\":\"white\",\"linecolor\":\"white\",\"showgrid\":true,\"tickcolor\":\"rgb(51,51,51)\",\"ticks\":\"outside\"},\"bgcolor\":\"rgb(237,237,237)\",\"radialaxis\":{\"gridcolor\":\"white\",\"linecolor\":\"white\",\"showgrid\":true,\"tickcolor\":\"rgb(51,51,51)\",\"ticks\":\"outside\"}},\"scene\":{\"xaxis\":{\"backgroundcolor\":\"rgb(237,237,237)\",\"gridcolor\":\"white\",\"gridwidth\":2,\"linecolor\":\"white\",\"showbackground\":true,\"showgrid\":true,\"tickcolor\":\"rgb(51,51,51)\",\"ticks\":\"outside\",\"zerolinecolor\":\"white\"},\"yaxis\":{\"backgroundcolor\":\"rgb(237,237,237)\",\"gridcolor\":\"white\",\"gridwidth\":2,\"linecolor\":\"white\",\"showbackground\":true,\"showgrid\":true,\"tickcolor\":\"rgb(51,51,51)\",\"ticks\":\"outside\",\"zerolinecolor\":\"white\"},\"zaxis\":{\"backgroundcolor\":\"rgb(237,237,237)\",\"gridcolor\":\"white\",\"gridwidth\":2,\"linecolor\":\"white\",\"showbackground\":true,\"showgrid\":true,\"tickcolor\":\"rgb(51,51,51)\",\"ticks\":\"outside\",\"zerolinecolor\":\"white\"}},\"shapedefaults\":{\"fillcolor\":\"black\",\"line\":{\"width\":0},\"opacity\":0.3},\"ternary\":{\"aaxis\":{\"gridcolor\":\"white\",\"linecolor\":\"white\",\"showgrid\":true,\"tickcolor\":\"rgb(51,51,51)\",\"ticks\":\"outside\"},\"baxis\":{\"gridcolor\":\"white\",\"linecolor\":\"white\",\"showgrid\":true,\"tickcolor\":\"rgb(51,51,51)\",\"ticks\":\"outside\"},\"bgcolor\":\"rgb(237,237,237)\",\"caxis\":{\"gridcolor\":\"white\",\"linecolor\":\"white\",\"showgrid\":true,\"tickcolor\":\"rgb(51,51,51)\",\"ticks\":\"outside\"}},\"xaxis\":{\"automargin\":true,\"gridcolor\":\"white\",\"linecolor\":\"white\",\"showgrid\":true,\"tickcolor\":\"rgb(51,51,51)\",\"ticks\":\"outside\",\"title\":{\"standoff\":15},\"zerolinecolor\":\"white\"},\"yaxis\":{\"automargin\":true,\"gridcolor\":\"white\",\"linecolor\":\"white\",\"showgrid\":true,\"tickcolor\":\"rgb(51,51,51)\",\"ticks\":\"outside\",\"title\":{\"standoff\":15},\"zerolinecolor\":\"white\"}}},\"xaxis\":{\"anchor\":\"y\",\"domain\":[0.0,0.49],\"title\":{\"text\":\"Quantidade Matr\\u00edculas\"},\"range\":[-14,500]},\"yaxis\":{\"anchor\":\"x\",\"domain\":[0.0,1.0],\"title\":{\"text\":\"Quantidade Docentes\"},\"range\":[-14,200]},\"xaxis2\":{\"anchor\":\"y2\",\"domain\":[0.51,1.0],\"matches\":\"x\",\"title\":{\"text\":\"Quantidade Matr\\u00edculas\"},\"range\":[-14,500]},\"yaxis2\":{\"anchor\":\"x2\",\"domain\":[0.0,1.0],\"matches\":\"y\",\"showticklabels\":false,\"range\":[-14,200]},\"annotations\":[{\"showarrow\":false,\"text\":\" Localiza\\u00e7\\u00e3o Rural\",\"x\":0.245,\"xanchor\":\"center\",\"xref\":\"paper\",\"y\":1.0,\"yanchor\":\"bottom\",\"yref\":\"paper\"},{\"showarrow\":false,\"text\":\" Localiza\\u00e7\\u00e3o Urbana\",\"x\":0.755,\"xanchor\":\"center\",\"xref\":\"paper\",\"y\":1.0,\"yanchor\":\"bottom\",\"yref\":\"paper\"},{\"font\":{\"color\":\"darkgrey\",\"size\":12},\"showarrow\":false,\"text\":\"Fonte: INEP\",\"x\":1,\"xanchor\":\"right\",\"xref\":\"paper\",\"y\":1.1,\"yanchor\":\"top\",\"yref\":\"paper\"}],\"legend\":{\"title\":{\"text\":\"<b> Localiza\\u00e7\\u00e3o Diferenciada:</b>\"},\"tracegroupgap\":0,\"itemsizing\":\"constant\",\"font\":{\"size\":12},\"orientation\":\"h\",\"x\":0,\"y\":-0.2},\"margin\":{\"t\":60},\"title\":{\"text\":\"<b>Censo Escolar 2021: An\\u00e1lise de Localiza\\u00e7\\u00e3o Diferenciada (RS)</b>\",\"font\":{\"size\":14,\"color\":\"Black\",\"family\":\"Arial Bold, sans-serif\"}},\"width\":1200,\"height\":600,\"font\":{\"size\":11}},                        {\"responsive\": true}                    ).then(function(){\n",
              "                            \n",
              "var gd = document.getElementById('aa6a5156-ca7b-4689-a44d-4c1a1dfc4527');\n",
              "var x = new MutationObserver(function (mutations, observer) {{\n",
              "        var display = window.getComputedStyle(gd).display;\n",
              "        if (!display || display === 'none') {{\n",
              "            console.log([gd, 'removed!']);\n",
              "            Plotly.purge(gd);\n",
              "            observer.disconnect();\n",
              "        }}\n",
              "}});\n",
              "\n",
              "// Listen for the removal of the full notebook cells\n",
              "var notebookContainer = gd.closest('#notebook-container');\n",
              "if (notebookContainer) {{\n",
              "    x.observe(notebookContainer, {childList: true});\n",
              "}}\n",
              "\n",
              "// Listen for the clearing of the current output cell\n",
              "var outputEl = gd.closest('.output');\n",
              "if (outputEl) {{\n",
              "    x.observe(outputEl, {childList: true});\n",
              "}}\n",
              "\n",
              "                        })                };                            </script>        </div>\n",
              "</body>\n",
              "</html>"
            ]
          },
          "metadata": {}
        }
      ]
    }
  ]
}